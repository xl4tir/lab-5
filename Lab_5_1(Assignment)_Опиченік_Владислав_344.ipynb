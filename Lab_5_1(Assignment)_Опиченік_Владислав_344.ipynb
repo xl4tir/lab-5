{
  "nbformat": 4,
  "nbformat_minor": 0,
  "metadata": {
    "colab": {
      "provenance": []
    },
    "kernelspec": {
      "name": "python3",
      "display_name": "Python 3"
    },
    "language_info": {
      "name": "python"
    }
  },
  "cells": [
    {
      "cell_type": "markdown",
      "source": [
        "# Реалізація зворотніх викликів у TensorFlow за допомогою набору даних MNIST\n"
      ],
      "metadata": {
        "id": "0RKSMu2G639g"
      }
    },
    {
      "cell_type": "markdown",
      "source": [
        "Ваша мережа повинна досягти успіху за менше ніж 9 епох.\n",
        "\n",
        "Якщо точність досягне 99% або більше, вона повинна вивести рядок \"Досягнуто точність 99%, тому навчання припинено!\" і зупинити навчання.\n",
        "\n",
        "Якщо ви додаєте будь-які додаткові змінні, переконайтеся, що ви використовуєте ті ж самі назви, що і в класі. Це важливо для сигнатур функцій (параметри та назви) зворотних викликів."
      ],
      "metadata": {
        "id": "LinWFlWn673U"
      }
    },
    {
      "cell_type": "code",
      "source": [
        "import os\n",
        "import tensorflow as tf\n",
        "from tensorflow import keras"
      ],
      "metadata": {
        "id": "1VS-Etgg7Flu"
      },
      "execution_count": null,
      "outputs": []
    },
    {
      "cell_type": "markdown",
      "source": [
        "Завантажую та оглядаю дані\n",
        "\n",
        "Спочатку я завантажую дані. Функція load_data дає мені два набори: навчальний і тестовий. Мені треба тільки навчальний, тому я просто не використовую другий."
      ],
      "metadata": {
        "id": "tDs66uJk7YI7"
      }
    },
    {
      "cell_type": "code",
      "source": [
        "from keras.datasets import mnist\n",
        "(x_train, y_train), _ = tf.keras.datasets.mnist.load_data()\n",
        "\n",
        "# Нормалізую значення пікселів\n",
        "x_train = x_train / 255.0"
      ],
      "metadata": {
        "colab": {
          "base_uri": "https://localhost:8080/"
        },
        "id": "49dq9xwC7Yul",
        "outputId": "08be4ba3-f1f6-4aab-b611-ee8d18f0dee6"
      },
      "execution_count": null,
      "outputs": [
        {
          "output_type": "stream",
          "name": "stdout",
          "text": [
            "Downloading data from https://storage.googleapis.com/tensorflow/tf-keras-datasets/mnist.npz\n",
            "11490434/11490434 [==============================] - 0s 0us/step\n"
          ]
        }
      ]
    },
    {
      "cell_type": "markdown",
      "source": [
        "Погляньмо на розмірність тренувальних даних"
      ],
      "metadata": {
        "id": "NZ22RYHg7w3y"
      }
    },
    {
      "cell_type": "code",
      "source": [
        "data_shape = x_train.shape\n",
        "print(f\"У нас є {data_shape[0]} прикладів з розміром ({data_shape[1]}, {data_shape[2]})\")\n"
      ],
      "metadata": {
        "colab": {
          "base_uri": "https://localhost:8080/"
        },
        "id": "3n4CBKv47xWI",
        "outputId": "2e489c5e-2374-4f98-989d-3fc78cec96f7"
      },
      "execution_count": null,
      "outputs": [
        {
          "output_type": "stream",
          "name": "stdout",
          "text": [
            "У нас є 60000 прикладів з розміром (28, 28)\n"
          ]
        }
      ]
    },
    {
      "cell_type": "markdown",
      "source": [
        "Визначення власного зворотнього виклику"
      ],
      "metadata": {
        "id": "jhknkfIU72X3"
      }
    },
    {
      "cell_type": "markdown",
      "source": [
        " цьому коді визначено клас myCallback, який є власним зворотнім викликом. У методі on_epoch_end відбувається перевірка, чи досягнута точність 99%. Якщо так, виводиться повідомлення і зупиняється навчання."
      ],
      "metadata": {
        "id": "wwG-CLYd7-kE"
      }
    },
    {
      "cell_type": "code",
      "source": [
        "# grader-required-cell\n",
        "\n",
        "# GRADED CLASS: myCallback\n",
        "### START CODE HERE\n",
        "\n",
        "# Remember to inherit from the correct class\n",
        "class myCallback(tf.keras.callbacks.Callback):\n",
        "    # Define the correct function signature for on_epoch_end\n",
        "    def on_epoch_end(self, epoch, logs={}):\n",
        "        if logs.get('accuracy') is not None and logs.get('accuracy') >= 0.99:\n",
        "            print(\"\\nДосягнуто точність 99%, тому навчання припинено!\")\n",
        "            self.model.stop_training = True\n",
        "\n",
        "### END CODE HERE\n"
      ],
      "metadata": {
        "id": "Qnm66syc7_J4"
      },
      "execution_count": null,
      "outputs": []
    },
    {
      "cell_type": "markdown",
      "source": [
        "Створення та навчання моделі"
      ],
      "metadata": {
        "id": "Fp4y3BJN8h9l"
      }
    },
    {
      "cell_type": "markdown",
      "source": [
        "У цьому коді створюється модель нейронної мережі, компілюється та навчається на тренувальних даних. Зворотний виклик myCallback викликається після кожної епохи, і якщо досягнута точність 99% або більше, навчання припиняється."
      ],
      "metadata": {
        "id": "YxibdKqV8jg7"
      }
    },
    {
      "cell_type": "code",
      "source": [
        "# grader-required-cell\n",
        "\n",
        "# GRADED FUNCTION: train_mnist\n",
        "def train_mnist(x_train, y_train):\n",
        "\n",
        "    ### START CODE HERE\n",
        "\n",
        "    # Instantiate the callback class\n",
        "    callbacks = myCallback()\n",
        "\n",
        "    # Define the model\n",
        "    model = tf.keras.models.Sequential([\n",
        "        tf.keras.layers.Flatten(input_shape=(28, 28)),\n",
        "        tf.keras.layers.Dense(96, activation=tf.nn.relu),\n",
        "        tf.keras.layers.Dense(10, activation=tf.nn.softmax)\n",
        "    ])\n",
        "\n",
        "    # Compile the model\n",
        "    model.compile(optimizer='adam',\n",
        "                  loss='sparse_categorical_crossentropy',\n",
        "                  metrics=['accuracy'])\n",
        "\n",
        "    # Fit the model for 10 epochs adding the callbacks\n",
        "    # and save the training history\n",
        "    history = model.fit(x_train, y_train, epochs=10, callbacks=[callbacks])\n",
        "\n",
        "    ### END CODE HERE\n",
        "\n",
        "    return history\n"
      ],
      "metadata": {
        "id": "cEK8PLZ98oGh"
      },
      "execution_count": null,
      "outputs": []
    },
    {
      "cell_type": "markdown",
      "source": [
        " Виклик функції train_mnist та отримання історії навчання"
      ],
      "metadata": {
        "id": "mk8V1Uui8xxu"
      }
    },
    {
      "cell_type": "code",
      "source": [
        "# grader-required-cell\n",
        "hist = train_mnist(x_train, y_train)"
      ],
      "metadata": {
        "colab": {
          "base_uri": "https://localhost:8080/"
        },
        "id": "ty8foY8781rQ",
        "outputId": "f42566b0-40f8-4a65-9ae8-d29b4cd72209"
      },
      "execution_count": null,
      "outputs": [
        {
          "output_type": "stream",
          "name": "stdout",
          "text": [
            "Epoch 1/10\n",
            "1875/1875 [==============================] - 4s 2ms/step - loss: 0.2713 - accuracy: 0.9227\n",
            "Epoch 2/10\n",
            "1875/1875 [==============================] - 5s 2ms/step - loss: 0.1253 - accuracy: 0.9637\n",
            "Epoch 3/10\n",
            "1875/1875 [==============================] - 3s 2ms/step - loss: 0.0873 - accuracy: 0.9738\n",
            "Epoch 4/10\n",
            "1875/1875 [==============================] - 3s 2ms/step - loss: 0.0672 - accuracy: 0.9800\n",
            "Epoch 5/10\n",
            "1875/1875 [==============================] - 3s 2ms/step - loss: 0.0535 - accuracy: 0.9835\n",
            "Epoch 6/10\n",
            "1875/1875 [==============================] - 3s 2ms/step - loss: 0.0428 - accuracy: 0.9869\n",
            "Epoch 7/10\n",
            "1875/1875 [==============================] - 3s 2ms/step - loss: 0.0357 - accuracy: 0.9894\n",
            "Epoch 8/10\n",
            "1870/1875 [============================>.] - ETA: 0s - loss: 0.0290 - accuracy: 0.9912\n",
            "Досягнуто точність 99%, тому навчання припинено!\n",
            "1875/1875 [==============================] - 3s 2ms/step - loss: 0.0291 - accuracy: 0.9912\n"
          ]
        }
      ]
    },
    {
      "cell_type": "markdown",
      "source": [
        "\"Досягнуто точність 99%, тому навчання припинено!\" раніше, ніж пройшло 9 епох, то все працює так, як має."
      ],
      "metadata": {
        "id": "sNJfQ-Bl9Ml3"
      }
    },
    {
      "cell_type": "code",
      "source": [],
      "metadata": {
        "id": "7KLcYxgNKo2d"
      },
      "execution_count": null,
      "outputs": []
    }
  ]
}