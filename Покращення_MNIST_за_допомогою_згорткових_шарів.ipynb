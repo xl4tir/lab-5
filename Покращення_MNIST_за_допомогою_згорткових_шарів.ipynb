{
  "nbformat": 4,
  "nbformat_minor": 0,
  "metadata": {
    "colab": {
      "provenance": []
    },
    "kernelspec": {
      "name": "python3",
      "display_name": "Python 3"
    },
    "language_info": {
      "name": "python"
    }
  },
  "cells": [
    {
      "cell_type": "markdown",
      "source": [
        "\n",
        "Покращення MNIST за допомогою згорткових шарів"
      ],
      "metadata": {
        "id": "50LvYRFhZmZU"
      }
    },
    {
      "cell_type": "code",
      "source": [
        "import os\n",
        "import numpy as np\n",
        "import tensorflow as tf\n",
        "from tensorflow import keras"
      ],
      "metadata": {
        "id": "AbXS-NMnZmi9"
      },
      "execution_count": 1,
      "outputs": []
    },
    {
      "cell_type": "code",
      "source": [
        "# Завантажте дані\n",
        "### START CODE HERE\n",
        "(training_images, training_labels), _ = tf.keras.datasets.mnist.load_data()\n",
        "### END CODE HERE"
      ],
      "metadata": {
        "colab": {
          "base_uri": "https://localhost:8080/",
          "height": 0
        },
        "id": "2l9WNgpJaTdQ",
        "outputId": "c3c03345-60cb-43c7-d1b1-8bca7e1f494f"
      },
      "execution_count": 2,
      "outputs": [
        {
          "output_type": "stream",
          "name": "stdout",
          "text": [
            "Downloading data from https://storage.googleapis.com/tensorflow/tf-keras-datasets/mnist.npz\n",
            "11490434/11490434 [==============================] - 0s 0us/step\n"
          ]
        }
      ]
    },
    {
      "cell_type": "code",
      "source": [
        "# Обробка даних\n",
        "# grader-required-cell\n",
        "# GRADED FUNCTION: reshape_and_normalize\n",
        "def reshape_and_normalize(images):\n",
        "    ### START CODE HERE\n",
        "    # Змініть форму зображень, щоб додати додатковий вимір\n",
        "    images = images.reshape((images.shape[0], images.shape[1], images.shape[2], 1))\n",
        "    # Нормалізуйте значення пікселів\n",
        "    images = images / 255.0\n",
        "    ### END CODE HERE\n",
        "    return images"
      ],
      "metadata": {
        "id": "FfLoh0vFaXPe"
      },
      "execution_count": 3,
      "outputs": []
    },
    {
      "cell_type": "code",
      "source": [
        "# Перевірте функцію\n",
        "# Перезавантажте зображення у випадку багаторазового запуску цього рядка\n",
        "(training_images, _), _ = tf.keras.datasets.mnist.load_data()\n",
        "# Застосуйте вашу функцію\n",
        "training_images = reshape_and_normalize(training_images)\n",
        "print(f\"Максимальне значення пікселя після нормалізації: {np.max(training_images)}\\n\")\n",
        "print(f\"Форма тренувального набору після зміни форми: {training_images.shape}\\n\")\n",
        "print(f\"Форма одного зображення після зміни форми: {training_images[0].shape}\")"
      ],
      "metadata": {
        "colab": {
          "base_uri": "https://localhost:8080/",
          "height": 0
        },
        "id": "fQI50vfpakAJ",
        "outputId": "b1355511-00f3-432b-b0a1-9f13dee6f2a1"
      },
      "execution_count": 5,
      "outputs": [
        {
          "output_type": "stream",
          "name": "stdout",
          "text": [
            "Максимальне значення пікселя після нормалізації: 1.0\n",
            "\n",
            "Форма тренувального набору після зміни форми: (60000, 28, 28, 1)\n",
            "\n",
            "Форма одного зображення після зміни форми: (28, 28, 1)\n"
          ]
        }
      ]
    },
    {
      "cell_type": "code",
      "source": [
        "# Визначте зворотний виклик\n",
        "# grader-required-cell\n",
        "# GRADED CLASS: myCallback\n",
        "### START CODE HERE\n",
        "class myCallback(tf.keras.callbacks.Callback):\n",
        "    def on_epoch_end(self, epoch, logs={}):\n",
        "        if logs.get('accuracy') >= 0.995:\n",
        "            print(\"\\nДосягнуто 99.5% точності, тому скасовуємо навчання!\")\n",
        "            self.model.stop_training = True\n",
        "### END CODE HERE"
      ],
      "metadata": {
        "id": "0CWKAkkFayMC"
      },
      "execution_count": 6,
      "outputs": []
    },
    {
      "cell_type": "code",
      "source": [
        "# Визначте функцію моделі\n",
        "# grader-required-cell\n",
        "# GRADED FUNCTION: convolutional_model\n",
        "def convolutional_model():\n",
        "    ### START CODE HERE\n",
        "    # Визначте модель\n",
        "    model = tf.keras.models.Sequential([\n",
        "        tf.keras.layers.Conv2D(32, (3, 3), activation='relu', input_shape=(28, 28, 1)),\n",
        "        tf.keras.layers.MaxPooling2D(2, 2),\n",
        "        tf.keras.layers.Flatten(),\n",
        "        tf.keras.layers.Dense(128, activation='relu'),\n",
        "        tf.keras.layers.Dense(10, activation='softmax')\n",
        "    ])\n",
        "    ### END CODE HERE\n",
        "    # Скомпілюйте модель\n",
        "    model.compile(optimizer='adam',\n",
        "                  loss='sparse_categorical_crossentropy',\n",
        "                  metrics=['accuracy'])\n",
        "    return model\n"
      ],
      "metadata": {
        "id": "qFef9nsta1_A"
      },
      "execution_count": 7,
      "outputs": []
    },
    {
      "cell_type": "code",
      "source": [
        "# Збережіть ненавчену модель\n",
        "model = convolutional_model()\n",
        "# Отримайте кількість ваг\n",
        "model_params = model.count_params()\n",
        "# Тест на обмеження розміру моделі\n",
        "assert model_params < 1000000, (\n",
        "    f'Ваша модель має {model_params:,} параметрів. Для успішного оцінювання будь ласка, зберігайте її '\n",
        "    f'менше 1 000 000, зменшуючи кількість одиниць у ваших шарах Conv2D та/або Dense.'\n",
        ")\n",
        "# Створити екземпляр класу зворотного виклику\n",
        "callbacks = myCallback()\n",
        "# Тренуйте модель (це може зайняти до 5 хвилин)\n",
        "history = model.fit(training_images, training_labels, epochs=10, callbacks=[callbacks])\n"
      ],
      "metadata": {
        "colab": {
          "base_uri": "https://localhost:8080/",
          "height": 0
        },
        "id": "F9PEaEI6a6BA",
        "outputId": "f3be84de-4b65-40ea-e6b2-88d434b0fcda"
      },
      "execution_count": 8,
      "outputs": [
        {
          "output_type": "stream",
          "name": "stdout",
          "text": [
            "Epoch 1/10\n",
            "1875/1875 [==============================] - 52s 27ms/step - loss: 0.1477 - accuracy: 0.9563\n",
            "Epoch 2/10\n",
            "1875/1875 [==============================] - 46s 25ms/step - loss: 0.0512 - accuracy: 0.9845\n",
            "Epoch 3/10\n",
            "1875/1875 [==============================] - 50s 27ms/step - loss: 0.0327 - accuracy: 0.9901\n",
            "Epoch 4/10\n",
            "1875/1875 [==============================] - 49s 26ms/step - loss: 0.0217 - accuracy: 0.9930\n",
            "Epoch 5/10\n",
            "1875/1875 [==============================] - 49s 26ms/step - loss: 0.0152 - accuracy: 0.9950\n",
            "Epoch 6/10\n",
            "1874/1875 [============================>.] - ETA: 0s - loss: 0.0104 - accuracy: 0.9967\n",
            "Досягнуто 99.5% точності, тому скасовуємо навчання!\n",
            "1875/1875 [==============================] - 48s 26ms/step - loss: 0.0104 - accuracy: 0.9966\n"
          ]
        }
      ]
    },
    {
      "cell_type": "code",
      "source": [
        "\n",
        "\n",
        "# grader-required-cell\n",
        "print(f\"Вашу модель навчено протягом {len(history.epoch)} епох\")"
      ],
      "metadata": {
        "colab": {
          "base_uri": "https://localhost:8080/",
          "height": 0
        },
        "id": "KkS5ISAubO3p",
        "outputId": "7be2d645-7f9d-499a-8223-11207075c9fc"
      },
      "execution_count": 10,
      "outputs": [
        {
          "output_type": "stream",
          "name": "stdout",
          "text": [
            "Вашу модель навчено протягом 6 епох\n"
          ]
        }
      ]
    },
    {
      "cell_type": "code",
      "source": [
        "\n",
        "if not \"accuracy\" in history.model.metrics_names:\n",
        "    print(\"Використовуйте 'accuracy' як метрику при компіляції вашої моделі.\")\n",
        "else:\n",
        "    print(\"Метрика була визначена правильно.\")"
      ],
      "metadata": {
        "colab": {
          "base_uri": "https://localhost:8080/",
          "height": 0
        },
        "id": "3B_0bWVcbWgW",
        "outputId": "5b5aeb52-e021-43e1-dece-afd659af0856"
      },
      "execution_count": 11,
      "outputs": [
        {
          "output_type": "stream",
          "name": "stdout",
          "text": [
            "Метрика була визначена правильно.\n"
          ]
        }
      ]
    }
  ]
}