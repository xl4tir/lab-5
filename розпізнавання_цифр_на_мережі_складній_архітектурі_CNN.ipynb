{
  "nbformat": 4,
  "nbformat_minor": 0,
  "metadata": {
    "colab": {
      "provenance": []
    },
    "kernelspec": {
      "name": "python3",
      "display_name": "Python 3"
    },
    "language_info": {
      "name": "python"
    }
  },
  "cells": [
    {
      "cell_type": "markdown",
      "source": [
        "# розпізнавання цифр на мережі складній архітектурі  CNN\n",
        "\n"
      ],
      "metadata": {
        "id": "fXmLaNML0wEe"
      }
    },
    {
      "cell_type": "code",
      "execution_count": 1,
      "metadata": {
        "id": "tkN8GD3L0lD8"
      },
      "outputs": [],
      "source": [
        "import numpy as np\n",
        "from keras.models import Sequential\n",
        "from keras.layers import Dense, Dropout, Flatten\n",
        "from keras.layers import Conv2D, MaxPooling2D\n",
        "from keras.datasets import mnist\n",
        "from keras.utils import to_categorical\n"
      ]
    },
    {
      "cell_type": "code",
      "source": [
        "# Завантаження та підготовка даних\n",
        "(x_train, y_train), (x_test, y_test) = mnist.load_data()"
      ],
      "metadata": {
        "colab": {
          "base_uri": "https://localhost:8080/"
        },
        "id": "oulk6gFI016I",
        "outputId": "f0b8c2f4-0a98-4f3b-c868-a987b8581efe"
      },
      "execution_count": 2,
      "outputs": [
        {
          "output_type": "stream",
          "name": "stdout",
          "text": [
            "Downloading data from https://storage.googleapis.com/tensorflow/tf-keras-datasets/mnist.npz\n",
            "11490434/11490434 [==============================] - 1s 0us/step\n"
          ]
        }
      ]
    },
    {
      "cell_type": "code",
      "source": [
        "# Змінюємо розміри даних для згоди з очікуваннями Conv2D\n",
        "y_train = to_categorical(y_train, 10)\n",
        "y_test = to_categorical(y_test, 10)\n",
        "input_shape = (28, 28, 1)"
      ],
      "metadata": {
        "id": "aB3B2o_703ya"
      },
      "execution_count": 3,
      "outputs": []
    },
    {
      "cell_type": "code",
      "source": [
        "# Нормалізація даних та приведення до категоріального формату\n",
        "x_train = x_train.astype('float32')\n",
        "x_test = x_test.astype('float32')\n",
        "x_train /= 255\n",
        "x_test /= 255\n",
        "x_train = x_train.reshape(x_train.shape[0], 28, 28, 1)\n",
        "x_test = x_test.reshape(x_test.shape[0], 28, 28, 1)\n"
      ],
      "metadata": {
        "id": "aaFutbuo05L1"
      },
      "execution_count": 4,
      "outputs": []
    },
    {
      "cell_type": "code",
      "source": [
        "# Створення більш складної архітектури CNN\n",
        "model_complex = Sequential()\n",
        "model_complex.add(Conv2D(30, kernel_size=(5, 5), activation='relu', input_shape=input_shape))\n",
        "model_complex.add(MaxPooling2D(pool_size=(2, 2)))\n",
        "model_complex.add(Conv2D(15, kernel_size=(3, 3), activation='relu'))\n",
        "model_complex.add(MaxPooling2D(pool_size=(2, 2)))\n",
        "model_complex.add(Dropout(0.2))\n",
        "model_complex.add(Flatten())\n",
        "model_complex.add(Dense(128, activation='relu'))\n",
        "model_complex.add(Dense(50, activation='relu'))\n",
        "model_complex.add(Dense(10, activation='softmax'))"
      ],
      "metadata": {
        "id": "78ImFLnF07mD"
      },
      "execution_count": 5,
      "outputs": []
    },
    {
      "cell_type": "code",
      "source": [
        "# Компіляція та навчання більш складної моделі\n",
        "model_complex.compile(loss='categorical_crossentropy', optimizer='adam', metrics=['accuracy'])\n",
        "model_complex.fit(x_train, y_train, validation_data=(x_test, y_test), epochs=10, batch_size=200)"
      ],
      "metadata": {
        "colab": {
          "base_uri": "https://localhost:8080/"
        },
        "id": "c8YZhMsD09dD",
        "outputId": "95e26401-2283-461c-9c14-5b93f83b8e98"
      },
      "execution_count": 6,
      "outputs": [
        {
          "output_type": "stream",
          "name": "stdout",
          "text": [
            "Epoch 1/10\n",
            "300/300 [==============================] - 58s 187ms/step - loss: 0.3780 - accuracy: 0.8849 - val_loss: 0.0881 - val_accuracy: 0.9721\n",
            "Epoch 2/10\n",
            "300/300 [==============================] - 44s 148ms/step - loss: 0.0998 - accuracy: 0.9690 - val_loss: 0.0506 - val_accuracy: 0.9836\n",
            "Epoch 3/10\n",
            "300/300 [==============================] - 44s 147ms/step - loss: 0.0718 - accuracy: 0.9775 - val_loss: 0.0414 - val_accuracy: 0.9872\n",
            "Epoch 4/10\n",
            "300/300 [==============================] - 43s 144ms/step - loss: 0.0579 - accuracy: 0.9826 - val_loss: 0.0349 - val_accuracy: 0.9890\n",
            "Epoch 5/10\n",
            "300/300 [==============================] - 40s 134ms/step - loss: 0.0501 - accuracy: 0.9841 - val_loss: 0.0317 - val_accuracy: 0.9892\n",
            "Epoch 6/10\n",
            "300/300 [==============================] - 43s 142ms/step - loss: 0.0433 - accuracy: 0.9860 - val_loss: 0.0317 - val_accuracy: 0.9896\n",
            "Epoch 7/10\n",
            "300/300 [==============================] - 42s 140ms/step - loss: 0.0386 - accuracy: 0.9876 - val_loss: 0.0310 - val_accuracy: 0.9891\n",
            "Epoch 8/10\n",
            "300/300 [==============================] - 43s 142ms/step - loss: 0.0363 - accuracy: 0.9884 - val_loss: 0.0302 - val_accuracy: 0.9905\n",
            "Epoch 9/10\n",
            "300/300 [==============================] - 42s 141ms/step - loss: 0.0324 - accuracy: 0.9894 - val_loss: 0.0254 - val_accuracy: 0.9913\n",
            "Epoch 10/10\n",
            "300/300 [==============================] - 43s 144ms/step - loss: 0.0286 - accuracy: 0.9912 - val_loss: 0.0253 - val_accuracy: 0.9925\n"
          ]
        },
        {
          "output_type": "execute_result",
          "data": {
            "text/plain": [
              "<keras.src.callbacks.History at 0x7854ea2fbb80>"
            ]
          },
          "metadata": {},
          "execution_count": 6
        }
      ]
    },
    {
      "cell_type": "code",
      "source": [
        "# Оцінка якості та помилок\n",
        "score_complex = model_complex.evaluate(x_test, y_test, verbose=0)\n",
        "print('Test loss:', score_complex[0])\n",
        "print('Test accuracy:', score_complex[1])"
      ],
      "metadata": {
        "colab": {
          "base_uri": "https://localhost:8080/"
        },
        "id": "QgS0bSE10-5y",
        "outputId": "a2992aaa-4294-487f-aa06-75801dde33e7"
      },
      "execution_count": 7,
      "outputs": [
        {
          "output_type": "stream",
          "name": "stdout",
          "text": [
            "Test loss: 0.02529909461736679\n",
            "Test accuracy: 0.9925000071525574\n"
          ]
        }
      ]
    },
    {
      "cell_type": "code",
      "source": [
        "# Збереження більш складної моделі\n",
        "model_complex.save(\"mnist_cnn_complex.h5\")"
      ],
      "metadata": {
        "colab": {
          "base_uri": "https://localhost:8080/"
        },
        "id": "HXFhwX8D1AF9",
        "outputId": "5f819a4a-52bf-4629-8cd2-3253aca2c8d5"
      },
      "execution_count": 8,
      "outputs": [
        {
          "output_type": "stream",
          "name": "stderr",
          "text": [
            "/usr/local/lib/python3.10/dist-packages/keras/src/engine/training.py:3079: UserWarning: You are saving your model as an HDF5 file via `model.save()`. This file format is considered legacy. We recommend using instead the native Keras format, e.g. `model.save('my_model.keras')`.\n",
            "  saving_api.save_model(\n"
          ]
        }
      ]
    }
  ]
}