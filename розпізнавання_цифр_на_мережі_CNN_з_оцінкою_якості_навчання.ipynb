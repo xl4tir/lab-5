{
  "nbformat": 4,
  "nbformat_minor": 0,
  "metadata": {
    "colab": {
      "provenance": []
    },
    "kernelspec": {
      "name": "python3",
      "display_name": "Python 3"
    },
    "language_info": {
      "name": "python"
    }
  },
  "cells": [
    {
      "cell_type": "code",
      "execution_count": 12,
      "metadata": {
        "id": "YI_EY5-VrEvJ"
      },
      "outputs": [],
      "source": [
        "import numpy as np\n",
        "from keras.models import Sequential\n",
        "from keras.layers import Dense, Dropout, Flatten\n",
        "from keras.layers import Conv2D, MaxPooling2D\n",
        "from keras.datasets import mnist\n",
        "from keras.utils import to_categorical\n",
        "\n"
      ]
    },
    {
      "cell_type": "code",
      "source": [
        "# Завантаження та підготовка даних\n",
        "(x_train, y_train), (x_test, y_test) = mnist.load_data()\n"
      ],
      "metadata": {
        "id": "NVhRcs4JrJcy"
      },
      "execution_count": 13,
      "outputs": []
    },
    {
      "cell_type": "code",
      "source": [
        "# Змінюємо розміри даних для згоди з очікуваннями Conv2D\n",
        "y_train = to_categorical(y_train, 10)\n",
        "y_test = to_categorical(y_test, 10)\n",
        "input_shape = (28, 28, 1)\n"
      ],
      "metadata": {
        "id": "GixS5vtlrKYk"
      },
      "execution_count": 14,
      "outputs": []
    },
    {
      "cell_type": "code",
      "source": [
        "# Нормалізація даних та приведення до категоріального формату\n",
        "x_train = x_train.astype('float32')\n",
        "x_test = x_test.astype('float32')\n",
        "x_train /= 255\n",
        "x_test /= 255\n",
        "x_train = x_train.reshape(x_train.shape[0], 28, 28, 1)\n",
        "x_test = x_test.reshape(x_test.shape[0], 28, 28, 1)\n",
        "\n"
      ],
      "metadata": {
        "id": "zJ9tm8egrVm2"
      },
      "execution_count": 15,
      "outputs": []
    },
    {
      "cell_type": "code",
      "source": [
        "# Створення простої структури CNN\n",
        "model = Sequential()\n",
        "model.add(Conv2D(32, kernel_size=(5, 5), activation='relu', input_shape=input_shape))\n",
        "model.add(MaxPooling2D(pool_size=(2, 2)))\n",
        "model.add(Dropout(0.2))\n",
        "model.add(Flatten())\n",
        "model.add(Dense(128, activation='relu'))\n",
        "model.add(Dense(10, activation='softmax'))"
      ],
      "metadata": {
        "id": "GDjWTH7Crd1k"
      },
      "execution_count": 16,
      "outputs": []
    },
    {
      "cell_type": "code",
      "source": [
        "# Компіляція та навчання моделі\n",
        "model.compile(loss='categorical_crossentropy', optimizer='adam', metrics=['accuracy'])\n",
        "model.fit(x_train, y_train, validation_data=(x_test, y_test), epochs=10, batch_size=200)\n"
      ],
      "metadata": {
        "colab": {
          "base_uri": "https://localhost:8080/"
        },
        "id": "cmZkaS7nrg3s",
        "outputId": "b16b02f1-c197-4e49-a632-2212f8dd8ba8"
      },
      "execution_count": 17,
      "outputs": [
        {
          "output_type": "stream",
          "name": "stdout",
          "text": [
            "Epoch 1/10\n",
            "300/300 [==============================] - 44s 145ms/step - loss: 0.2446 - accuracy: 0.9318 - val_loss: 0.0840 - val_accuracy: 0.9754\n",
            "Epoch 2/10\n",
            "300/300 [==============================] - 34s 113ms/step - loss: 0.0753 - accuracy: 0.9776 - val_loss: 0.0519 - val_accuracy: 0.9833\n",
            "Epoch 3/10\n",
            "300/300 [==============================] - 36s 121ms/step - loss: 0.0531 - accuracy: 0.9840 - val_loss: 0.0455 - val_accuracy: 0.9848\n",
            "Epoch 4/10\n",
            "300/300 [==============================] - 35s 116ms/step - loss: 0.0405 - accuracy: 0.9876 - val_loss: 0.0384 - val_accuracy: 0.9880\n",
            "Epoch 5/10\n",
            "300/300 [==============================] - 34s 113ms/step - loss: 0.0324 - accuracy: 0.9903 - val_loss: 0.0351 - val_accuracy: 0.9882\n",
            "Epoch 6/10\n",
            "300/300 [==============================] - 36s 120ms/step - loss: 0.0264 - accuracy: 0.9915 - val_loss: 0.0311 - val_accuracy: 0.9895\n",
            "Epoch 7/10\n",
            "300/300 [==============================] - 34s 113ms/step - loss: 0.0218 - accuracy: 0.9931 - val_loss: 0.0315 - val_accuracy: 0.9889\n",
            "Epoch 8/10\n",
            "300/300 [==============================] - 34s 113ms/step - loss: 0.0195 - accuracy: 0.9938 - val_loss: 0.0339 - val_accuracy: 0.9888\n",
            "Epoch 9/10\n",
            "300/300 [==============================] - 35s 118ms/step - loss: 0.0161 - accuracy: 0.9947 - val_loss: 0.0447 - val_accuracy: 0.9857\n",
            "Epoch 10/10\n",
            "300/300 [==============================] - 35s 115ms/step - loss: 0.0125 - accuracy: 0.9963 - val_loss: 0.0303 - val_accuracy: 0.9896\n"
          ]
        },
        {
          "output_type": "execute_result",
          "data": {
            "text/plain": [
              "<keras.src.callbacks.History at 0x7b1fc2d088b0>"
            ]
          },
          "metadata": {},
          "execution_count": 17
        }
      ]
    },
    {
      "cell_type": "code",
      "source": [
        "# Оцінка якості та помилок\n",
        "score = model.evaluate(x_test, y_test, verbose=0)\n",
        "print('Test loss:', score[0])\n",
        "print('Test accuracy:', score[1])"
      ],
      "metadata": {
        "colab": {
          "base_uri": "https://localhost:8080/"
        },
        "id": "dNDub1igtVMA",
        "outputId": "29b50c86-10f8-477f-f71c-7778632bdcce"
      },
      "execution_count": 18,
      "outputs": [
        {
          "output_type": "stream",
          "name": "stdout",
          "text": [
            "Test loss: 0.030269820243120193\n",
            "Test accuracy: 0.9896000027656555\n"
          ]
        }
      ]
    },
    {
      "cell_type": "code",
      "source": [
        "# Збереження моделі\n",
        "model.save(\"mnist_cnn_simple.h5\")"
      ],
      "metadata": {
        "colab": {
          "base_uri": "https://localhost:8080/"
        },
        "id": "2gQtCLDOtXC7",
        "outputId": "76d4d463-db00-4ec1-dedd-8ba6eb06c6fa"
      },
      "execution_count": 19,
      "outputs": [
        {
          "output_type": "stream",
          "name": "stderr",
          "text": [
            "/usr/local/lib/python3.10/dist-packages/keras/src/engine/training.py:3079: UserWarning: You are saving your model as an HDF5 file via `model.save()`. This file format is considered legacy. We recommend using instead the native Keras format, e.g. `model.save('my_model.keras')`.\n",
            "  saving_api.save_model(\n"
          ]
        }
      ]
    }
  ]
}